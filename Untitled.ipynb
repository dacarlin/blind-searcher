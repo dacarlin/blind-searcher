{
 "cells": [
  {
   "cell_type": "markdown",
   "metadata": {
    "collapsed": true
   },
   "source": [
    "# Blind systematic steps in sequence-functional landscpe for more diverse starting sequences for protein design [lead to better models?]\n",
    "\n",
    "## Description\n",
    "\n",
    "Here, we systematically mutate each residue in the active site to all 20 possible residues (note: 1 out of 20 is wild type), then run 100 design simulations. We'll compare this to a stock protocol."
   ]
  },
  {
   "cell_type": "code",
   "execution_count": 1,
   "metadata": {
    "collapsed": false
   },
   "outputs": [
    {
     "name": "stdout",
     "output_type": "stream",
     "text": [
      "dehydrogenase.enzdes.cst  list_of_pos.txt\t   mdh.pdb\r\n",
      "design_run\t\t  list_of_res.txt\t   MEL.params\r\n",
      "enzdes_protocol.xml\t  log.txt\t\t   NAD.params\r\n",
      "FE2.params\t\t  make-list.py\t\t   out\r\n",
      "flags\t\t\t  mdh_A26V_A31V_A169V.pdb  sub.sh\r\n",
      "force_list\t\t  mdh_a26v_a31v.pdb\t   Untitled.ipynb\r\n",
      "list\t\t\t  mdh_a26v.pdb\r\n"
     ]
    }
   ],
   "source": [
    "! ls "
   ]
  },
  {
   "cell_type": "code",
   "execution_count": 3,
   "metadata": {
    "collapsed": false
   },
   "outputs": [],
   "source": [
    "with open( 'list_of_res.txt' ) as fn:                                                                                              \n",
    "    residues = [ i.strip() for i in fn.readlines() ]                                                                                 \n",
    "                                                                                                                                   \n",
    "with open( 'list_of_pos.txt' ) as fn:                                                                                              \n",
    "    list_of_pos = [ i.strip() for i in fn.readlines() ]                                                                              \n",
    "\n",
    "nstruct = 100 \n",
    "with open( 'list', 'w' ) as fn:    \n",
    "    for k in range( nstruct ):\n",
    "        for j in residues:                                                                                                                 \n",
    "            for i in list_of_pos:\n",
    "                fn.write( '-parser:script_vars target={} new_res={} '.format( i, j ) ) \n",
    "                fn.write( '-suffix _{}_{}_{:04d} \\n'.format( i, j, k ) )"
   ]
  },
  {
   "cell_type": "code",
   "execution_count": 4,
   "metadata": {
    "collapsed": false
   },
   "outputs": [
    {
     "name": "stdout",
     "output_type": "stream",
     "text": [
      "-parser:script_vars target=46 new_res=ALA -suffix _46_ALA_0000 \r\n",
      "-parser:script_vars target=48 new_res=ALA -suffix _48_ALA_0000 \r\n",
      "-parser:script_vars target=106 new_res=ALA -suffix _106_ALA_0000 \r\n",
      "-parser:script_vars target=109 new_res=ALA -suffix _109_ALA_0000 \r\n",
      "-parser:script_vars target=146 new_res=ALA -suffix _146_ALA_0000 \r\n",
      "-parser:script_vars target=149 new_res=ALA -suffix _149_ALA_0000 \r\n",
      "-parser:script_vars target=151 new_res=ALA -suffix _151_ALA_0000 \r\n",
      "-parser:script_vars target=156 new_res=ALA -suffix _156_ALA_0000 \r\n",
      "-parser:script_vars target=160 new_res=ALA -suffix _160_ALA_0000 \r\n",
      "-parser:script_vars target=190 new_res=ALA -suffix _190_ALA_0000 \r\n"
     ]
    }
   ],
   "source": [
    "! head list "
   ]
  },
  {
   "cell_type": "code",
   "execution_count": 5,
   "metadata": {
    "collapsed": false
   },
   "outputs": [
    {
     "name": "stdout",
     "output_type": "stream",
     "text": [
      "#!/bin/sh\r\n",
      "#\r\n",
      "#SBATCH --job-name=forced \r\n",
      "#SBATCH --output=log.txt \r\n",
      "\r\n",
      "EXTRA_FLAGS=$( head -${SLURM_ARRAY_TASK_ID} list | tail -1 )\r\n",
      "/share/work/alex/rosetta/source/bin/rosetta_scripts.linuxgccrelease @flags $EXTRA_FLAGS \r\n"
     ]
    }
   ],
   "source": [
    "! cat sub.sh"
   ]
  },
  {
   "cell_type": "code",
   "execution_count": 7,
   "metadata": {
    "collapsed": false
   },
   "outputs": [
    {
     "name": "stdout",
     "output_type": "stream",
     "text": [
      "Submitted batch job 481753\r\n"
     ]
    }
   ],
   "source": [
    "! sbatch --array=1-20 sub.sh"
   ]
  },
  {
   "cell_type": "markdown",
   "metadata": {},
   "source": [
    "## Results"
   ]
  },
  {
   "cell_type": "code",
   "execution_count": 14,
   "metadata": {
    "collapsed": false,
    "scrolled": false
   },
   "outputs": [],
   "source": [
    "import numpy \n",
    "import pandas\n",
    "from glob import glob \n",
    "from collections import Counter\n",
    "from Bio.PDB.Polypeptide import PPBuilder\n",
    "from Bio.PDB import PDBParser\n",
    "from subprocess import call \n",
    "\n",
    "# function that will return the sequence of PDB from disk\n",
    "def util_function( pdb ):\n",
    "    parser = PDBParser()\n",
    "    structure = parser.get_structure( pdb[:-4], pdb )\n",
    "    ppb = PPBuilder() # lol why don't these have PDBParser( 'XZY1.pdb' )-style constructors? \n",
    "    for pp in ppb.build_peptides( structure ):\n",
    "        sequence = pp.get_sequence()\n",
    "        return sequence \n",
    "\n",
    "# collect scorefiles \n",
    "outfile = 'wt_out/'\n",
    "dfs = [ pandas.read_csv( sf, sep='\\s+' ) for sf in glob( '{}/*sc'.format( outfile ) ) ]\n",
    "df = pandas.concat( dfs )\n",
    "\n",
    "# filter (this gets lowest 100 by total_score)\n",
    "low = df.sort( 'total_score' ).head( 100 )\n",
    "path_to_low = [ '{}/{}.pdb'.format( outfile, i ) for i in low.description ]"
   ]
  },
  {
   "cell_type": "code",
   "execution_count": 22,
   "metadata": {
    "collapsed": false
   },
   "outputs": [
    {
     "data": {
      "text/html": [
       "<div>\n",
       "<table border=\"1\" class=\"dataframe\">\n",
       "  <thead>\n",
       "    <tr style=\"text-align: right;\">\n",
       "      <th></th>\n",
       "      <th>description</th>\n",
       "      <th>total_score</th>\n",
       "    </tr>\n",
       "  </thead>\n",
       "  <tbody>\n",
       "    <tr>\n",
       "      <th>41</th>\n",
       "      <td>mdh_194_PRO_0042</td>\n",
       "      <td>-240.57</td>\n",
       "    </tr>\n",
       "    <tr>\n",
       "      <th>62</th>\n",
       "      <td>mdh_146_PRO_0063</td>\n",
       "      <td>-1503.69</td>\n",
       "    </tr>\n",
       "    <tr>\n",
       "      <th>52</th>\n",
       "      <td>mdh_370_LYS_0053</td>\n",
       "      <td>-1507.41</td>\n",
       "    </tr>\n",
       "    <tr>\n",
       "      <th>60</th>\n",
       "      <td>mdh_109_LEU_0061</td>\n",
       "      <td>-1507.83</td>\n",
       "    </tr>\n",
       "    <tr>\n",
       "      <th>33</th>\n",
       "      <td>mdh_48_TRP_0034</td>\n",
       "      <td>-1360.77</td>\n",
       "    </tr>\n",
       "    <tr>\n",
       "      <th>66</th>\n",
       "      <td>mdh_370_TRP_0067</td>\n",
       "      <td>-1498.46</td>\n",
       "    </tr>\n",
       "    <tr>\n",
       "      <th>21</th>\n",
       "      <td>mdh_151_MET_0022</td>\n",
       "      <td>-1512.29</td>\n",
       "    </tr>\n",
       "    <tr>\n",
       "      <th>90</th>\n",
       "      <td>mdh_106_ARG_0091</td>\n",
       "      <td>-1514.51</td>\n",
       "    </tr>\n",
       "    <tr>\n",
       "      <th>10</th>\n",
       "      <td>mdh_370_LEU_0011</td>\n",
       "      <td>-1505.01</td>\n",
       "    </tr>\n",
       "    <tr>\n",
       "      <th>94</th>\n",
       "      <td>mdh_370_VAL_0095</td>\n",
       "      <td>-1512.26</td>\n",
       "    </tr>\n",
       "  </tbody>\n",
       "</table>\n",
       "</div>"
      ],
      "text/plain": [
       "         description  total_score\n",
       "41  mdh_194_PRO_0042      -240.57\n",
       "62  mdh_146_PRO_0063     -1503.69\n",
       "52  mdh_370_LYS_0053     -1507.41\n",
       "60  mdh_109_LEU_0061     -1507.83\n",
       "33   mdh_48_TRP_0034     -1360.77\n",
       "66  mdh_370_TRP_0067     -1498.46\n",
       "21  mdh_151_MET_0022     -1512.29\n",
       "90  mdh_106_ARG_0091     -1514.51\n",
       "10  mdh_370_LEU_0011     -1505.01\n",
       "94  mdh_370_VAL_0095     -1512.26"
      ]
     },
     "execution_count": 22,
     "metadata": {},
     "output_type": "execute_result"
    }
   ],
   "source": [
    "df.sample( 10 )[[ 'description', 'total_score' ]]"
   ]
  },
  {
   "cell_type": "code",
   "execution_count": 23,
   "metadata": {
    "collapsed": false
   },
   "outputs": [],
   "source": [
    "# this builds sequences of each PDB and takes 0.1 seconds per PDB\n",
    "with open( 'alignment.fasta', 'w' ) as fn:\n",
    "    l = [] \n",
    "    seqs = [ util_function( pdb ) for pdb in path_to_low ]\n",
    "    for record in seqs:\n",
    "        l += [ list( record ) ]\n",
    "        fn.write( '>name\\n{}\\n'.format( record ) )"
   ]
  },
  {
   "cell_type": "code",
   "execution_count": 24,
   "metadata": {
    "collapsed": false
   },
   "outputs": [],
   "source": [
    "# this tars them all together so you can download and look at them\n",
    "#cmd = [ 'tar', '--create', '--verbose', '--file', 'low_100.tar' ] + path_to_low\n",
    "#call( cmd ) # creates a file called 'low_100.tar' "
   ]
  },
  {
   "cell_type": "code",
   "execution_count": 25,
   "metadata": {
    "collapsed": false,
    "scrolled": false
   },
   "outputs": [
    {
     "name": "stdout",
     "output_type": "stream",
     "text": [
      "G48 ('A', 8) ('G', 92)\n",
      "T160 ('F', 3) ('I', 2) ('R', 2) ('T', 79) ('W', 2) ('V', 1) ('Y', 11)\n",
      "K167 ('A', 17) ('D', 75) ('G', 1) ('N', 3) ('P', 2) ('V', 2)\n",
      "T204 ('A', 99) ('S', 1)\n",
      "F261 ('A', 1) ('F', 99)\n",
      "L266 ('L', 99) ('G', 1)\n",
      "A273 ('A', 99) ('G', 1)\n",
      "N288 ('A', 6) ('S', 1) ('T', 1) ('G', 1) ('N', 91)\n",
      "M370 ('A', 4) ('D', 1) ('M', 85) ('N', 4) ('S', 2) ('T', 2) ('V', 2)\n",
      "create muts, resi 48+160+167+204+261+266+273+288+370\n"
     ]
    },
    {
     "name": "stderr",
     "output_type": "stream",
     "text": [
      "/home/carlin/bin/anaconda/lib/python2.7/site-packages/Bio/PDB/PDBParser.py:287: PDBConstructionWarning: PDBConstructionException: Atom C1 defined twice in residue <Residue MEL het=H_MEL resseq=1 icode= > at line 5780.\n",
      "Exception ignored.\n",
      "Some atoms or residues may be missing in the data structure.\n",
      "  % message, PDBConstructionWarning)\n",
      "/home/carlin/bin/anaconda/lib/python2.7/site-packages/Bio/PDB/PDBParser.py:287: PDBConstructionWarning: PDBConstructionException: Atom O1 defined twice in residue <Residue MEL het=H_MEL resseq=1 icode= > at line 5781.\n",
      "Exception ignored.\n",
      "Some atoms or residues may be missing in the data structure.\n",
      "  % message, PDBConstructionWarning)\n",
      "/home/carlin/bin/anaconda/lib/python2.7/site-packages/Bio/PDB/PDBParser.py:287: PDBConstructionWarning: PDBConstructionException: Atom H1 defined twice in residue <Residue MEL het=H_MEL resseq=1 icode= > at line 5782.\n",
      "Exception ignored.\n",
      "Some atoms or residues may be missing in the data structure.\n",
      "  % message, PDBConstructionWarning)\n",
      "/home/carlin/bin/anaconda/lib/python2.7/site-packages/Bio/PDB/PDBParser.py:287: PDBConstructionWarning: PDBConstructionException: Atom H2 defined twice in residue <Residue MEL het=H_MEL resseq=1 icode= > at line 5783.\n",
      "Exception ignored.\n",
      "Some atoms or residues may be missing in the data structure.\n",
      "  % message, PDBConstructionWarning)\n",
      "/home/carlin/bin/anaconda/lib/python2.7/site-packages/Bio/PDB/PDBParser.py:287: PDBConstructionWarning: PDBConstructionException: Atom H3 defined twice in residue <Residue MEL het=H_MEL resseq=1 icode= > at line 5784.\n",
      "Exception ignored.\n",
      "Some atoms or residues may be missing in the data structure.\n",
      "  % message, PDBConstructionWarning)\n",
      "/home/carlin/bin/anaconda/lib/python2.7/site-packages/Bio/PDB/PDBParser.py:287: PDBConstructionWarning: PDBConstructionException: Atom H4 defined twice in residue <Residue MEL het=H_MEL resseq=1 icode= > at line 5785.\n",
      "Exception ignored.\n",
      "Some atoms or residues may be missing in the data structure.\n",
      "  % message, PDBConstructionWarning)\n"
     ]
    }
   ],
   "source": [
    "# build a numpy array that contains positions that were mutated and what they were mutated to\n",
    "# supa fast\n",
    "\n",
    "not_allowed = [ 158, 109, 106, 149, 146 ]\n",
    "# mutations to these residues should be rejected \n",
    "\n",
    "native_seq = util_function( 'mdh.pdb' )\n",
    "a = numpy.array( l ) \n",
    "pos = []\n",
    "for n, i in enumerate( a.T ):\n",
    "    c = Counter( i )\n",
    "    if len( c ) > 1 and n + 1 not in not_allowed: # limits us to spots where mutations have been designed\n",
    "        pos.append( str( n + 1 ) ) \n",
    "        print '{}{}'.format( native_seq[ n ], n+1 ) , \n",
    "        for item in c.items():\n",
    "            print item, \n",
    "        print \n",
    "        \n",
    "print 'create muts, resi', '+'.join( pos )"
   ]
  }
 ],
 "metadata": {
  "kernelspec": {
   "display_name": "Python 2",
   "language": "python",
   "name": "python2"
  },
  "language_info": {
   "codemirror_mode": {
    "name": "ipython",
    "version": 2
   },
   "file_extension": ".py",
   "mimetype": "text/x-python",
   "name": "python",
   "nbconvert_exporter": "python",
   "pygments_lexer": "ipython2",
   "version": "2.7.10"
  }
 },
 "nbformat": 4,
 "nbformat_minor": 0
}
